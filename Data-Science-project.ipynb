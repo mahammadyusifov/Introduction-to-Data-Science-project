{
  "nbformat": 4,
  "nbformat_minor": 0,
  "metadata": {
    "colab": {
      "provenance": [],
      "collapsed_sections": [
        "hVPRcR-Xdt_e",
        "rPn7kNPEl3TA",
        "2d3-Pbizxokv",
        "MB-eJmZH9I2x",
        "NRHwlToc5FEr",
        "Cqa4n0gV7tn3"
      ]
    },
    "kernelspec": {
      "name": "python3",
      "display_name": "Python 3"
    },
    "language_info": {
      "name": "python"
    }
  },
  "cells": [
    {
      "cell_type": "code",
      "execution_count": null,
      "metadata": {
        "id": "PKpwkd47Zk3e",
        "outputId": "a5a6f56e-b951-4f47-d24d-641b1e8bac19",
        "colab": {
          "base_uri": "https://localhost:8080/",
          "height": 341
        }
      },
      "outputs": [
        {
          "output_type": "error",
          "ename": "FileNotFoundError",
          "evalue": "ignored",
          "traceback": [
            "\u001b[0;31m---------------------------------------------------------------------------\u001b[0m",
            "\u001b[0;31mFileNotFoundError\u001b[0m                         Traceback (most recent call last)",
            "\u001b[0;32m<ipython-input-1-1084e73e182a>\u001b[0m in \u001b[0;36m<module>\u001b[0;34m\u001b[0m\n\u001b[1;32m      1\u001b[0m \u001b[0;32mimport\u001b[0m \u001b[0mpandas\u001b[0m \u001b[0;32mas\u001b[0m \u001b[0mpd\u001b[0m\u001b[0;34m\u001b[0m\u001b[0;34m\u001b[0m\u001b[0m\n\u001b[0;32m----> 2\u001b[0;31m \u001b[0mdf\u001b[0m \u001b[0;34m=\u001b[0m \u001b[0mpd\u001b[0m\u001b[0;34m.\u001b[0m\u001b[0mread_csv\u001b[0m\u001b[0;34m(\u001b[0m\u001b[0;34m'train.csv'\u001b[0m\u001b[0;34m)\u001b[0m\u001b[0;34m\u001b[0m\u001b[0;34m\u001b[0m\u001b[0m\n\u001b[0m",
            "\u001b[0;32m/usr/local/lib/python3.7/dist-packages/pandas/util/_decorators.py\u001b[0m in \u001b[0;36mwrapper\u001b[0;34m(*args, **kwargs)\u001b[0m\n\u001b[1;32m    309\u001b[0m                     \u001b[0mstacklevel\u001b[0m\u001b[0;34m=\u001b[0m\u001b[0mstacklevel\u001b[0m\u001b[0;34m,\u001b[0m\u001b[0;34m\u001b[0m\u001b[0;34m\u001b[0m\u001b[0m\n\u001b[1;32m    310\u001b[0m                 )\n\u001b[0;32m--> 311\u001b[0;31m             \u001b[0;32mreturn\u001b[0m \u001b[0mfunc\u001b[0m\u001b[0;34m(\u001b[0m\u001b[0;34m*\u001b[0m\u001b[0margs\u001b[0m\u001b[0;34m,\u001b[0m \u001b[0;34m**\u001b[0m\u001b[0mkwargs\u001b[0m\u001b[0;34m)\u001b[0m\u001b[0;34m\u001b[0m\u001b[0;34m\u001b[0m\u001b[0m\n\u001b[0m\u001b[1;32m    312\u001b[0m \u001b[0;34m\u001b[0m\u001b[0m\n\u001b[1;32m    313\u001b[0m         \u001b[0;32mreturn\u001b[0m \u001b[0mwrapper\u001b[0m\u001b[0;34m\u001b[0m\u001b[0;34m\u001b[0m\u001b[0m\n",
            "\u001b[0;32m/usr/local/lib/python3.7/dist-packages/pandas/io/parsers/readers.py\u001b[0m in \u001b[0;36mread_csv\u001b[0;34m(filepath_or_buffer, sep, delimiter, header, names, index_col, usecols, squeeze, prefix, mangle_dupe_cols, dtype, engine, converters, true_values, false_values, skipinitialspace, skiprows, skipfooter, nrows, na_values, keep_default_na, na_filter, verbose, skip_blank_lines, parse_dates, infer_datetime_format, keep_date_col, date_parser, dayfirst, cache_dates, iterator, chunksize, compression, thousands, decimal, lineterminator, quotechar, quoting, doublequote, escapechar, comment, encoding, encoding_errors, dialect, error_bad_lines, warn_bad_lines, on_bad_lines, delim_whitespace, low_memory, memory_map, float_precision, storage_options)\u001b[0m\n\u001b[1;32m    584\u001b[0m     \u001b[0mkwds\u001b[0m\u001b[0;34m.\u001b[0m\u001b[0mupdate\u001b[0m\u001b[0;34m(\u001b[0m\u001b[0mkwds_defaults\u001b[0m\u001b[0;34m)\u001b[0m\u001b[0;34m\u001b[0m\u001b[0;34m\u001b[0m\u001b[0m\n\u001b[1;32m    585\u001b[0m \u001b[0;34m\u001b[0m\u001b[0m\n\u001b[0;32m--> 586\u001b[0;31m     \u001b[0;32mreturn\u001b[0m \u001b[0m_read\u001b[0m\u001b[0;34m(\u001b[0m\u001b[0mfilepath_or_buffer\u001b[0m\u001b[0;34m,\u001b[0m \u001b[0mkwds\u001b[0m\u001b[0;34m)\u001b[0m\u001b[0;34m\u001b[0m\u001b[0;34m\u001b[0m\u001b[0m\n\u001b[0m\u001b[1;32m    587\u001b[0m \u001b[0;34m\u001b[0m\u001b[0m\n\u001b[1;32m    588\u001b[0m \u001b[0;34m\u001b[0m\u001b[0m\n",
            "\u001b[0;32m/usr/local/lib/python3.7/dist-packages/pandas/io/parsers/readers.py\u001b[0m in \u001b[0;36m_read\u001b[0;34m(filepath_or_buffer, kwds)\u001b[0m\n\u001b[1;32m    480\u001b[0m \u001b[0;34m\u001b[0m\u001b[0m\n\u001b[1;32m    481\u001b[0m     \u001b[0;31m# Create the parser.\u001b[0m\u001b[0;34m\u001b[0m\u001b[0;34m\u001b[0m\u001b[0;34m\u001b[0m\u001b[0m\n\u001b[0;32m--> 482\u001b[0;31m     \u001b[0mparser\u001b[0m \u001b[0;34m=\u001b[0m \u001b[0mTextFileReader\u001b[0m\u001b[0;34m(\u001b[0m\u001b[0mfilepath_or_buffer\u001b[0m\u001b[0;34m,\u001b[0m \u001b[0;34m**\u001b[0m\u001b[0mkwds\u001b[0m\u001b[0;34m)\u001b[0m\u001b[0;34m\u001b[0m\u001b[0;34m\u001b[0m\u001b[0m\n\u001b[0m\u001b[1;32m    483\u001b[0m \u001b[0;34m\u001b[0m\u001b[0m\n\u001b[1;32m    484\u001b[0m     \u001b[0;32mif\u001b[0m \u001b[0mchunksize\u001b[0m \u001b[0;32mor\u001b[0m \u001b[0miterator\u001b[0m\u001b[0;34m:\u001b[0m\u001b[0;34m\u001b[0m\u001b[0;34m\u001b[0m\u001b[0m\n",
            "\u001b[0;32m/usr/local/lib/python3.7/dist-packages/pandas/io/parsers/readers.py\u001b[0m in \u001b[0;36m__init__\u001b[0;34m(self, f, engine, **kwds)\u001b[0m\n\u001b[1;32m    809\u001b[0m             \u001b[0mself\u001b[0m\u001b[0;34m.\u001b[0m\u001b[0moptions\u001b[0m\u001b[0;34m[\u001b[0m\u001b[0;34m\"has_index_names\"\u001b[0m\u001b[0;34m]\u001b[0m \u001b[0;34m=\u001b[0m \u001b[0mkwds\u001b[0m\u001b[0;34m[\u001b[0m\u001b[0;34m\"has_index_names\"\u001b[0m\u001b[0;34m]\u001b[0m\u001b[0;34m\u001b[0m\u001b[0;34m\u001b[0m\u001b[0m\n\u001b[1;32m    810\u001b[0m \u001b[0;34m\u001b[0m\u001b[0m\n\u001b[0;32m--> 811\u001b[0;31m         \u001b[0mself\u001b[0m\u001b[0;34m.\u001b[0m\u001b[0m_engine\u001b[0m \u001b[0;34m=\u001b[0m \u001b[0mself\u001b[0m\u001b[0;34m.\u001b[0m\u001b[0m_make_engine\u001b[0m\u001b[0;34m(\u001b[0m\u001b[0mself\u001b[0m\u001b[0;34m.\u001b[0m\u001b[0mengine\u001b[0m\u001b[0;34m)\u001b[0m\u001b[0;34m\u001b[0m\u001b[0;34m\u001b[0m\u001b[0m\n\u001b[0m\u001b[1;32m    812\u001b[0m \u001b[0;34m\u001b[0m\u001b[0m\n\u001b[1;32m    813\u001b[0m     \u001b[0;32mdef\u001b[0m \u001b[0mclose\u001b[0m\u001b[0;34m(\u001b[0m\u001b[0mself\u001b[0m\u001b[0;34m)\u001b[0m\u001b[0;34m:\u001b[0m\u001b[0;34m\u001b[0m\u001b[0;34m\u001b[0m\u001b[0m\n",
            "\u001b[0;32m/usr/local/lib/python3.7/dist-packages/pandas/io/parsers/readers.py\u001b[0m in \u001b[0;36m_make_engine\u001b[0;34m(self, engine)\u001b[0m\n\u001b[1;32m   1038\u001b[0m             )\n\u001b[1;32m   1039\u001b[0m         \u001b[0;31m# error: Too many arguments for \"ParserBase\"\u001b[0m\u001b[0;34m\u001b[0m\u001b[0;34m\u001b[0m\u001b[0;34m\u001b[0m\u001b[0m\n\u001b[0;32m-> 1040\u001b[0;31m         \u001b[0;32mreturn\u001b[0m \u001b[0mmapping\u001b[0m\u001b[0;34m[\u001b[0m\u001b[0mengine\u001b[0m\u001b[0;34m]\u001b[0m\u001b[0;34m(\u001b[0m\u001b[0mself\u001b[0m\u001b[0;34m.\u001b[0m\u001b[0mf\u001b[0m\u001b[0;34m,\u001b[0m \u001b[0;34m**\u001b[0m\u001b[0mself\u001b[0m\u001b[0;34m.\u001b[0m\u001b[0moptions\u001b[0m\u001b[0;34m)\u001b[0m  \u001b[0;31m# type: ignore[call-arg]\u001b[0m\u001b[0;34m\u001b[0m\u001b[0;34m\u001b[0m\u001b[0m\n\u001b[0m\u001b[1;32m   1041\u001b[0m \u001b[0;34m\u001b[0m\u001b[0m\n\u001b[1;32m   1042\u001b[0m     \u001b[0;32mdef\u001b[0m \u001b[0m_failover_to_python\u001b[0m\u001b[0;34m(\u001b[0m\u001b[0mself\u001b[0m\u001b[0;34m)\u001b[0m\u001b[0;34m:\u001b[0m\u001b[0;34m\u001b[0m\u001b[0;34m\u001b[0m\u001b[0m\n",
            "\u001b[0;32m/usr/local/lib/python3.7/dist-packages/pandas/io/parsers/c_parser_wrapper.py\u001b[0m in \u001b[0;36m__init__\u001b[0;34m(self, src, **kwds)\u001b[0m\n\u001b[1;32m     49\u001b[0m \u001b[0;34m\u001b[0m\u001b[0m\n\u001b[1;32m     50\u001b[0m         \u001b[0;31m# open handles\u001b[0m\u001b[0;34m\u001b[0m\u001b[0;34m\u001b[0m\u001b[0;34m\u001b[0m\u001b[0m\n\u001b[0;32m---> 51\u001b[0;31m         \u001b[0mself\u001b[0m\u001b[0;34m.\u001b[0m\u001b[0m_open_handles\u001b[0m\u001b[0;34m(\u001b[0m\u001b[0msrc\u001b[0m\u001b[0;34m,\u001b[0m \u001b[0mkwds\u001b[0m\u001b[0;34m)\u001b[0m\u001b[0;34m\u001b[0m\u001b[0;34m\u001b[0m\u001b[0m\n\u001b[0m\u001b[1;32m     52\u001b[0m         \u001b[0;32massert\u001b[0m \u001b[0mself\u001b[0m\u001b[0;34m.\u001b[0m\u001b[0mhandles\u001b[0m \u001b[0;32mis\u001b[0m \u001b[0;32mnot\u001b[0m \u001b[0;32mNone\u001b[0m\u001b[0;34m\u001b[0m\u001b[0;34m\u001b[0m\u001b[0m\n\u001b[1;32m     53\u001b[0m \u001b[0;34m\u001b[0m\u001b[0m\n",
            "\u001b[0;32m/usr/local/lib/python3.7/dist-packages/pandas/io/parsers/base_parser.py\u001b[0m in \u001b[0;36m_open_handles\u001b[0;34m(self, src, kwds)\u001b[0m\n\u001b[1;32m    227\u001b[0m             \u001b[0mmemory_map\u001b[0m\u001b[0;34m=\u001b[0m\u001b[0mkwds\u001b[0m\u001b[0;34m.\u001b[0m\u001b[0mget\u001b[0m\u001b[0;34m(\u001b[0m\u001b[0;34m\"memory_map\"\u001b[0m\u001b[0;34m,\u001b[0m \u001b[0;32mFalse\u001b[0m\u001b[0;34m)\u001b[0m\u001b[0;34m,\u001b[0m\u001b[0;34m\u001b[0m\u001b[0;34m\u001b[0m\u001b[0m\n\u001b[1;32m    228\u001b[0m             \u001b[0mstorage_options\u001b[0m\u001b[0;34m=\u001b[0m\u001b[0mkwds\u001b[0m\u001b[0;34m.\u001b[0m\u001b[0mget\u001b[0m\u001b[0;34m(\u001b[0m\u001b[0;34m\"storage_options\"\u001b[0m\u001b[0;34m,\u001b[0m \u001b[0;32mNone\u001b[0m\u001b[0;34m)\u001b[0m\u001b[0;34m,\u001b[0m\u001b[0;34m\u001b[0m\u001b[0;34m\u001b[0m\u001b[0m\n\u001b[0;32m--> 229\u001b[0;31m             \u001b[0merrors\u001b[0m\u001b[0;34m=\u001b[0m\u001b[0mkwds\u001b[0m\u001b[0;34m.\u001b[0m\u001b[0mget\u001b[0m\u001b[0;34m(\u001b[0m\u001b[0;34m\"encoding_errors\"\u001b[0m\u001b[0;34m,\u001b[0m \u001b[0;34m\"strict\"\u001b[0m\u001b[0;34m)\u001b[0m\u001b[0;34m,\u001b[0m\u001b[0;34m\u001b[0m\u001b[0;34m\u001b[0m\u001b[0m\n\u001b[0m\u001b[1;32m    230\u001b[0m         )\n\u001b[1;32m    231\u001b[0m \u001b[0;34m\u001b[0m\u001b[0m\n",
            "\u001b[0;32m/usr/local/lib/python3.7/dist-packages/pandas/io/common.py\u001b[0m in \u001b[0;36mget_handle\u001b[0;34m(path_or_buf, mode, encoding, compression, memory_map, is_text, errors, storage_options)\u001b[0m\n\u001b[1;32m    705\u001b[0m                 \u001b[0mencoding\u001b[0m\u001b[0;34m=\u001b[0m\u001b[0mioargs\u001b[0m\u001b[0;34m.\u001b[0m\u001b[0mencoding\u001b[0m\u001b[0;34m,\u001b[0m\u001b[0;34m\u001b[0m\u001b[0;34m\u001b[0m\u001b[0m\n\u001b[1;32m    706\u001b[0m                 \u001b[0merrors\u001b[0m\u001b[0;34m=\u001b[0m\u001b[0merrors\u001b[0m\u001b[0;34m,\u001b[0m\u001b[0;34m\u001b[0m\u001b[0;34m\u001b[0m\u001b[0m\n\u001b[0;32m--> 707\u001b[0;31m                 \u001b[0mnewline\u001b[0m\u001b[0;34m=\u001b[0m\u001b[0;34m\"\"\u001b[0m\u001b[0;34m,\u001b[0m\u001b[0;34m\u001b[0m\u001b[0;34m\u001b[0m\u001b[0m\n\u001b[0m\u001b[1;32m    708\u001b[0m             )\n\u001b[1;32m    709\u001b[0m         \u001b[0;32melse\u001b[0m\u001b[0;34m:\u001b[0m\u001b[0;34m\u001b[0m\u001b[0;34m\u001b[0m\u001b[0m\n",
            "\u001b[0;31mFileNotFoundError\u001b[0m: [Errno 2] No such file or directory: 'train.csv'"
          ]
        }
      ],
      "source": [
        "import pandas as pd\n",
        "df = pd.read_csv('train.csv')"
      ]
    },
    {
      "cell_type": "markdown",
      "source": [
        "---\n",
        "---"
      ],
      "metadata": {
        "id": "Xe12_qgCjCCQ"
      }
    },
    {
      "cell_type": "code",
      "source": [
        "!pip install category_encoders # installing a new library (my first time)"
      ],
      "metadata": {
        "colab": {
          "base_uri": "https://localhost:8080/"
        },
        "id": "hIY4t9lnhav1",
        "outputId": "1dd614a1-e250-42da-f075-9ba63afb04af"
      },
      "execution_count": null,
      "outputs": [
        {
          "output_type": "stream",
          "name": "stdout",
          "text": [
            "Looking in indexes: https://pypi.org/simple, https://us-python.pkg.dev/colab-wheels/public/simple/\n",
            "Requirement already satisfied: category_encoders in /usr/local/lib/python3.7/dist-packages (2.5.0)\n",
            "Requirement already satisfied: pandas>=1.0.5 in /usr/local/lib/python3.7/dist-packages (from category_encoders) (1.3.5)\n",
            "Requirement already satisfied: scipy>=1.0.0 in /usr/local/lib/python3.7/dist-packages (from category_encoders) (1.4.1)\n",
            "Requirement already satisfied: patsy>=0.5.1 in /usr/local/lib/python3.7/dist-packages (from category_encoders) (0.5.2)\n",
            "Requirement already satisfied: scikit-learn>=0.20.0 in /usr/local/lib/python3.7/dist-packages (from category_encoders) (1.0.2)\n",
            "Requirement already satisfied: numpy>=1.14.0 in /usr/local/lib/python3.7/dist-packages (from category_encoders) (1.21.6)\n",
            "Requirement already satisfied: statsmodels>=0.9.0 in /usr/local/lib/python3.7/dist-packages (from category_encoders) (0.10.2)\n",
            "Requirement already satisfied: python-dateutil>=2.7.3 in /usr/local/lib/python3.7/dist-packages (from pandas>=1.0.5->category_encoders) (2.8.2)\n",
            "Requirement already satisfied: pytz>=2017.3 in /usr/local/lib/python3.7/dist-packages (from pandas>=1.0.5->category_encoders) (2022.1)\n",
            "Requirement already satisfied: six in /usr/local/lib/python3.7/dist-packages (from patsy>=0.5.1->category_encoders) (1.15.0)\n",
            "Requirement already satisfied: threadpoolctl>=2.0.0 in /usr/local/lib/python3.7/dist-packages (from scikit-learn>=0.20.0->category_encoders) (3.1.0)\n",
            "Requirement already satisfied: joblib>=0.11 in /usr/local/lib/python3.7/dist-packages (from scikit-learn>=0.20.0->category_encoders) (1.1.0)\n"
          ]
        }
      ]
    },
    {
      "cell_type": "markdown",
      "source": [
        "# Preprocessing the data"
      ],
      "metadata": {
        "id": "eykryzipazfe"
      }
    },
    {
      "cell_type": "markdown",
      "source": [
        "---\n",
        "---"
      ],
      "metadata": {
        "id": "wx4xjoRA-WvL"
      }
    },
    {
      "cell_type": "code",
      "source": [
        "# Checking if one hot encoding of duty regime is good?\n",
        "# duty regime yeqinki az columu olar so, yeqin cox rotation etmez unit sphereda\n",
        "# hemcinin, duty regimin ne qeder onemli oldugunu da olce bilerik\n",
        "\n",
        "# Duty regime'i silmek ve onehot etmek cox xirda 0.89.. larda bir sey verdi. Yeni, nisbeten have etmek de olar amma almost \n",
        "# doest matter belkede buna gore (bele assume etmek olar belke de cunki random forestde oxsar tapdi)\n",
        "\n",
        "# ********************\n",
        "\n",
        "# TaxRate silinse ne olar? (sirada, issuedatetime?) TaxRate knn'i bir qeder 0.1 lerde azaltdi amma foresti 1 lerde\n",
        "# yeni olsa sanki daha yaxsidi demek olar\n",
        "\n",
        "# *********************\n",
        "# Issue date time geri gelse ne olar? Sirada, agirligi ancaq issuedate time a vermek ucun, countryni silmek - Issue date time nope\n",
        "# hemcinin, classification id'ni target encode etmek yeni ideyadir\n",
        "\n",
        "# *********************\n",
        "# check how important is classification id. You can say i think that export is important."
      ],
      "metadata": {
        "id": "dWrQvqwU-bA7"
      },
      "execution_count": null,
      "outputs": []
    },
    {
      "cell_type": "markdown",
      "source": [
        "---\n",
        "---"
      ],
      "metadata": {
        "id": "NdsPitMa-Zu5"
      }
    },
    {
      "cell_type": "code",
      "source": [
        "df['IssueDateTime'] = (df['IssueDateTime'].str.split('-').str.get(1)).astype(int)"
      ],
      "metadata": {
        "id": "8QrOlG1Ka4DZ"
      },
      "execution_count": null,
      "outputs": []
    },
    {
      "cell_type": "markdown",
      "source": [
        "---\n",
        "\n",
        "---"
      ],
      "metadata": {
        "id": "5MkTCaNnbLaM"
      }
    },
    {
      "cell_type": "code",
      "source": [
        "df['ClassificationID'] = df['ClassificationID'] // 100000000"
      ],
      "metadata": {
        "id": "Q_h9dlDJbbRc"
      },
      "execution_count": null,
      "outputs": []
    },
    {
      "cell_type": "markdown",
      "source": [
        "---\n",
        "\n",
        "---"
      ],
      "metadata": {
        "id": "LysHe0oUbcKn"
      }
    },
    {
      "cell_type": "code",
      "source": [
        "deleted_columns = ['IssueDateTime', 'ID', 'ProcessType', 'TransactionNature', 'Type', 'PaymentType', 'DeclarerID', 'ImporterID',\n",
        "                   'SellerID', 'ExpressID', 'DisplayIndicator', 'OriginCountry', 'BorderTransportMeans', 'DeclarationOfficeID', 'DutyRegime']"
      ],
      "metadata": {
        "id": "KkxMic1GbFwJ"
      },
      "execution_count": null,
      "outputs": []
    },
    {
      "cell_type": "markdown",
      "source": [
        "---\n",
        "\n",
        "---"
      ],
      "metadata": {
        "id": "zClUDWmRbNuW"
      }
    },
    {
      "cell_type": "code",
      "source": [
        "df = df.drop(df[deleted_columns], axis = 1)"
      ],
      "metadata": {
        "id": "hE3KZXFJbJ3S"
      },
      "execution_count": null,
      "outputs": []
    },
    {
      "cell_type": "markdown",
      "source": [
        "---\n",
        "\n",
        "---"
      ],
      "metadata": {
        "id": "rmd5JDwHbjqr"
      }
    },
    {
      "cell_type": "code",
      "source": [
        "label_encoded_column = ['ClassificationID']"
      ],
      "metadata": {
        "id": "luO5HchIbknv"
      },
      "execution_count": null,
      "outputs": []
    },
    {
      "cell_type": "markdown",
      "source": [
        "---\n",
        "\n",
        "---"
      ],
      "metadata": {
        "id": "Vn4K3p_dbxX7"
      }
    },
    {
      "cell_type": "code",
      "source": [
        "for label in label_encoded_column :\n",
        "  df[label] = pd.factorize(df[label], sort = True)[0]"
      ],
      "metadata": {
        "id": "06GVXcRucP6q"
      },
      "execution_count": null,
      "outputs": []
    },
    {
      "cell_type": "markdown",
      "source": [
        "---\n",
        "---"
      ],
      "metadata": {
        "id": "KxTpAm16_C1s"
      }
    },
    {
      "cell_type": "code",
      "source": [
        "one_hot_columns_knn = ['ExportationCountry']"
      ],
      "metadata": {
        "id": "RWizCdGl_Eak"
      },
      "execution_count": null,
      "outputs": []
    },
    {
      "cell_type": "markdown",
      "source": [
        "---\n",
        "---"
      ],
      "metadata": {
        "id": "_rrvouPr_O-5"
      }
    },
    {
      "cell_type": "code",
      "source": [
        " df = pd.get_dummies(df, columns = one_hot_columns_knn, drop_first=True)"
      ],
      "metadata": {
        "id": "QSNv7qm0_P-B"
      },
      "execution_count": null,
      "outputs": []
    },
    {
      "cell_type": "markdown",
      "source": [
        "---\n",
        "---"
      ],
      "metadata": {
        "id": "0DrOknmXcQWT"
      }
    },
    {
      "cell_type": "code",
      "source": [
        "features = [col for col in df.columns if col != 'Fake']"
      ],
      "metadata": {
        "id": "5qyu19K2cLXO"
      },
      "execution_count": null,
      "outputs": []
    },
    {
      "cell_type": "markdown",
      "source": [
        "---\n",
        "---"
      ],
      "metadata": {
        "id": "S87vqZxDhX4C"
      }
    },
    {
      "cell_type": "code",
      "source": [
        "from category_encoders import TargetEncoder"
      ],
      "metadata": {
        "id": "OrUwBrHGiKH4"
      },
      "execution_count": null,
      "outputs": []
    },
    {
      "cell_type": "markdown",
      "source": [
        "---\n",
        "---"
      ],
      "metadata": {
        "id": "wYDT4BwdhkVb"
      }
    },
    {
      "cell_type": "code",
      "source": [
        "# encoder = TargetEncoder()\n",
        "# export_column = df['ExportationCountry']\n",
        "# df['ExportationCountry'] = encoder.fit_transform(df['ExportationCountry'], df['Fake'])"
      ],
      "metadata": {
        "colab": {
          "base_uri": "https://localhost:8080/"
        },
        "id": "HsULFIMdhmcZ",
        "outputId": "ece01947-bd21-43e2-bc99-6d949da8d500"
      },
      "execution_count": null,
      "outputs": [
        {
          "output_type": "stream",
          "name": "stderr",
          "text": [
            "/usr/local/lib/python3.7/dist-packages/category_encoders/target_encoder.py:94: FutureWarning: Default parameter min_samples_leaf will change in version 2.6.See https://github.com/scikit-learn-contrib/category_encoders/issues/327\n",
            "  category=FutureWarning)\n",
            "/usr/local/lib/python3.7/dist-packages/category_encoders/target_encoder.py:99: FutureWarning: Default parameter smoothing will change in version 2.6.See https://github.com/scikit-learn-contrib/category_encoders/issues/327\n",
            "  category=FutureWarning)\n"
          ]
        }
      ]
    },
    {
      "cell_type": "markdown",
      "source": [
        "---\n",
        "---"
      ],
      "metadata": {
        "id": "CCUxVe43nMYh"
      }
    },
    {
      "cell_type": "markdown",
      "source": [
        "---\n",
        "---\n",
        "---\n",
        "---"
      ],
      "metadata": {
        "id": "uH-g7RAtdq20"
      }
    },
    {
      "cell_type": "markdown",
      "source": [
        "# Models "
      ],
      "metadata": {
        "id": "hVPRcR-Xdt_e"
      }
    },
    {
      "cell_type": "markdown",
      "source": [
        "---\n",
        "---"
      ],
      "metadata": {
        "id": "dc6sZwebd5Fy"
      }
    },
    {
      "cell_type": "code",
      "source": [
        "models = {}\n",
        "\n",
        "# Logistic Regression\n",
        "from sklearn.linear_model import LogisticRegression\n",
        "models['Logistic Regression'] = LogisticRegression()\n",
        "\n",
        "# Support Vector Machines\n",
        "from sklearn.svm import LinearSVC\n",
        "models['Support Vector Machines'] = LinearSVC()\n",
        "\n",
        "# Decision Trees\n",
        "from sklearn.tree import DecisionTreeClassifier\n",
        "models['Decision Trees'] = DecisionTreeClassifier()\n",
        "\n",
        "# Random Forest\n",
        "from sklearn.ensemble import RandomForestClassifier\n",
        "models['Random Forest'] = RandomForestClassifier()\n",
        "\n",
        "# Naive Bayes\n",
        "from sklearn.naive_bayes import GaussianNB\n",
        "models['Naive Bayes'] = GaussianNB()\n",
        "\n",
        "# K-Nearest Neighbors\n",
        "from sklearn.neighbors import KNeighborsClassifier\n",
        "models['K-Nearest Neighbor'] = KNeighborsClassifier(n_neighbors = 12, weights = 'distance')"
      ],
      "metadata": {
        "id": "vmn2EktCdzIH"
      },
      "execution_count": null,
      "outputs": []
    },
    {
      "cell_type": "markdown",
      "source": [
        "---\n",
        "---"
      ],
      "metadata": {
        "id": "c2b2Kld1d3L5"
      }
    },
    {
      "cell_type": "code",
      "source": [
        "from sklearn.model_selection import train_test_split\n",
        "X_train, X_test, y_train, y_test = train_test_split(df[features], df['Fake'], test_size = 0.25 )"
      ],
      "metadata": {
        "id": "WhVKdm7Jd4TP"
      },
      "execution_count": null,
      "outputs": []
    },
    {
      "cell_type": "markdown",
      "source": [
        "---\n",
        "---"
      ],
      "metadata": {
        "id": "CsBiJhaoeD9F"
      }
    },
    {
      "cell_type": "code",
      "source": [
        "from sklearn.metrics import accuracy_score, precision_score, recall_score\n",
        "from sklearn.model_selection import train_test_split\n",
        "accuracy, precision, recall = {}, {}, {}\n",
        "\n",
        "for key in models.keys():\n",
        "    \n",
        "    # Fit the classifier model\n",
        "    models[key].fit(X_train, y_train)\n",
        "    \n",
        "    # Prediction \n",
        "    predictions = models[key].predict(X_test)\n",
        "    \n",
        "    # Calculate Accuracy, Precision and Recall Metrics\n",
        "    accuracy[key] = accuracy_score(predictions, y_test)\n",
        "    precision[key] = precision_score(predictions, y_test)\n",
        "    recall[key] = recall_score(predictions, y_test)"
      ],
      "metadata": {
        "colab": {
          "base_uri": "https://localhost:8080/"
        },
        "id": "NbeFEAaKeFeH",
        "outputId": "fecd6d94-db83-4110-b3bb-10f2b2b9f35f"
      },
      "execution_count": null,
      "outputs": [
        {
          "output_type": "stream",
          "name": "stderr",
          "text": [
            "/usr/local/lib/python3.7/dist-packages/sklearn/svm/_base.py:1208: ConvergenceWarning: Liblinear failed to converge, increase the number of iterations.\n",
            "  ConvergenceWarning,\n"
          ]
        }
      ]
    },
    {
      "cell_type": "markdown",
      "source": [
        "---\n",
        "---"
      ],
      "metadata": {
        "id": "hnHD1XazeOJX"
      }
    },
    {
      "cell_type": "code",
      "source": [
        "df_model = pd.DataFrame(index=models.keys(), columns=['Accuracy', 'Precision', 'Recall'])\n",
        "df_model['Accuracy'] = accuracy.values()\n",
        "df_model['Precision'] = precision.values()\n",
        "df_model['Recall'] = recall.values()\n",
        "\n",
        "df_model"
      ],
      "metadata": {
        "colab": {
          "base_uri": "https://localhost:8080/",
          "height": 235
        },
        "id": "uwIXR5PReO7C",
        "outputId": "98d7d7b4-5241-4fcb-c12b-9e6850759c73"
      },
      "execution_count": null,
      "outputs": [
        {
          "output_type": "execute_result",
          "data": {
            "text/plain": [
              "                         Accuracy  Precision    Recall\n",
              "Logistic Regression      0.782466   0.001464  0.214286\n",
              "Support Vector Machines  0.646574   0.133236  0.148450\n",
              "Decision Trees           0.872673   0.693021  0.711779\n",
              "Random Forest            0.896151   0.646657  0.837018\n",
              "Naive Bayes              0.783418   0.001464  0.600000\n",
              "K-Nearest Neighbor       0.892132   0.646169  0.817789"
            ],
            "text/html": [
              "\n",
              "  <div id=\"df-fa9b0c83-ee11-4aa1-8062-9f8a84a4152e\">\n",
              "    <div class=\"colab-df-container\">\n",
              "      <div>\n",
              "<style scoped>\n",
              "    .dataframe tbody tr th:only-of-type {\n",
              "        vertical-align: middle;\n",
              "    }\n",
              "\n",
              "    .dataframe tbody tr th {\n",
              "        vertical-align: top;\n",
              "    }\n",
              "\n",
              "    .dataframe thead th {\n",
              "        text-align: right;\n",
              "    }\n",
              "</style>\n",
              "<table border=\"1\" class=\"dataframe\">\n",
              "  <thead>\n",
              "    <tr style=\"text-align: right;\">\n",
              "      <th></th>\n",
              "      <th>Accuracy</th>\n",
              "      <th>Precision</th>\n",
              "      <th>Recall</th>\n",
              "    </tr>\n",
              "  </thead>\n",
              "  <tbody>\n",
              "    <tr>\n",
              "      <th>Logistic Regression</th>\n",
              "      <td>0.782466</td>\n",
              "      <td>0.001464</td>\n",
              "      <td>0.214286</td>\n",
              "    </tr>\n",
              "    <tr>\n",
              "      <th>Support Vector Machines</th>\n",
              "      <td>0.646574</td>\n",
              "      <td>0.133236</td>\n",
              "      <td>0.148450</td>\n",
              "    </tr>\n",
              "    <tr>\n",
              "      <th>Decision Trees</th>\n",
              "      <td>0.872673</td>\n",
              "      <td>0.693021</td>\n",
              "      <td>0.711779</td>\n",
              "    </tr>\n",
              "    <tr>\n",
              "      <th>Random Forest</th>\n",
              "      <td>0.896151</td>\n",
              "      <td>0.646657</td>\n",
              "      <td>0.837018</td>\n",
              "    </tr>\n",
              "    <tr>\n",
              "      <th>Naive Bayes</th>\n",
              "      <td>0.783418</td>\n",
              "      <td>0.001464</td>\n",
              "      <td>0.600000</td>\n",
              "    </tr>\n",
              "    <tr>\n",
              "      <th>K-Nearest Neighbor</th>\n",
              "      <td>0.892132</td>\n",
              "      <td>0.646169</td>\n",
              "      <td>0.817789</td>\n",
              "    </tr>\n",
              "  </tbody>\n",
              "</table>\n",
              "</div>\n",
              "      <button class=\"colab-df-convert\" onclick=\"convertToInteractive('df-fa9b0c83-ee11-4aa1-8062-9f8a84a4152e')\"\n",
              "              title=\"Convert this dataframe to an interactive table.\"\n",
              "              style=\"display:none;\">\n",
              "        \n",
              "  <svg xmlns=\"http://www.w3.org/2000/svg\" height=\"24px\"viewBox=\"0 0 24 24\"\n",
              "       width=\"24px\">\n",
              "    <path d=\"M0 0h24v24H0V0z\" fill=\"none\"/>\n",
              "    <path d=\"M18.56 5.44l.94 2.06.94-2.06 2.06-.94-2.06-.94-.94-2.06-.94 2.06-2.06.94zm-11 1L8.5 8.5l.94-2.06 2.06-.94-2.06-.94L8.5 2.5l-.94 2.06-2.06.94zm10 10l.94 2.06.94-2.06 2.06-.94-2.06-.94-.94-2.06-.94 2.06-2.06.94z\"/><path d=\"M17.41 7.96l-1.37-1.37c-.4-.4-.92-.59-1.43-.59-.52 0-1.04.2-1.43.59L10.3 9.45l-7.72 7.72c-.78.78-.78 2.05 0 2.83L4 21.41c.39.39.9.59 1.41.59.51 0 1.02-.2 1.41-.59l7.78-7.78 2.81-2.81c.8-.78.8-2.07 0-2.86zM5.41 20L4 18.59l7.72-7.72 1.47 1.35L5.41 20z\"/>\n",
              "  </svg>\n",
              "      </button>\n",
              "      \n",
              "  <style>\n",
              "    .colab-df-container {\n",
              "      display:flex;\n",
              "      flex-wrap:wrap;\n",
              "      gap: 12px;\n",
              "    }\n",
              "\n",
              "    .colab-df-convert {\n",
              "      background-color: #E8F0FE;\n",
              "      border: none;\n",
              "      border-radius: 50%;\n",
              "      cursor: pointer;\n",
              "      display: none;\n",
              "      fill: #1967D2;\n",
              "      height: 32px;\n",
              "      padding: 0 0 0 0;\n",
              "      width: 32px;\n",
              "    }\n",
              "\n",
              "    .colab-df-convert:hover {\n",
              "      background-color: #E2EBFA;\n",
              "      box-shadow: 0px 1px 2px rgba(60, 64, 67, 0.3), 0px 1px 3px 1px rgba(60, 64, 67, 0.15);\n",
              "      fill: #174EA6;\n",
              "    }\n",
              "\n",
              "    [theme=dark] .colab-df-convert {\n",
              "      background-color: #3B4455;\n",
              "      fill: #D2E3FC;\n",
              "    }\n",
              "\n",
              "    [theme=dark] .colab-df-convert:hover {\n",
              "      background-color: #434B5C;\n",
              "      box-shadow: 0px 1px 3px 1px rgba(0, 0, 0, 0.15);\n",
              "      filter: drop-shadow(0px 1px 2px rgba(0, 0, 0, 0.3));\n",
              "      fill: #FFFFFF;\n",
              "    }\n",
              "  </style>\n",
              "\n",
              "      <script>\n",
              "        const buttonEl =\n",
              "          document.querySelector('#df-fa9b0c83-ee11-4aa1-8062-9f8a84a4152e button.colab-df-convert');\n",
              "        buttonEl.style.display =\n",
              "          google.colab.kernel.accessAllowed ? 'block' : 'none';\n",
              "\n",
              "        async function convertToInteractive(key) {\n",
              "          const element = document.querySelector('#df-fa9b0c83-ee11-4aa1-8062-9f8a84a4152e');\n",
              "          const dataTable =\n",
              "            await google.colab.kernel.invokeFunction('convertToInteractive',\n",
              "                                                     [key], {});\n",
              "          if (!dataTable) return;\n",
              "\n",
              "          const docLinkHtml = 'Like what you see? Visit the ' +\n",
              "            '<a target=\"_blank\" href=https://colab.research.google.com/notebooks/data_table.ipynb>data table notebook</a>'\n",
              "            + ' to learn more about interactive tables.';\n",
              "          element.innerHTML = '';\n",
              "          dataTable['output_type'] = 'display_data';\n",
              "          await google.colab.output.renderOutput(dataTable, element);\n",
              "          const docLink = document.createElement('div');\n",
              "          docLink.innerHTML = docLinkHtml;\n",
              "          element.appendChild(docLink);\n",
              "        }\n",
              "      </script>\n",
              "    </div>\n",
              "  </div>\n",
              "  "
            ]
          },
          "metadata": {},
          "execution_count": 362
        }
      ]
    },
    {
      "cell_type": "markdown",
      "source": [
        "---\n",
        "---"
      ],
      "metadata": {
        "id": "6DEiWUUhepob"
      }
    },
    {
      "cell_type": "code",
      "source": [
        "# k_values = {}\n",
        "# other_accuracy = {}\n",
        "# for i in range(10,40) :\n",
        "#   k_values[i] = KNeighborsClassifier(n_neighbors = i+1, weights = 'distance')\n",
        "#   k_values[i].fit(X_train, y_train)\n",
        "#   predictions = k_values[i].predict(X_test)\n",
        "#   other_accuracy[i] = accuracy_score(predictions, y_test)\n",
        "\n",
        "# accuracy_df = pd.DataFrame(index = ['accuracy'], data = other_accuracy)\n",
        "# accuracy_df"
      ],
      "metadata": {
        "id": "wWrFfIJweqgY"
      },
      "execution_count": null,
      "outputs": []
    },
    {
      "cell_type": "markdown",
      "source": [
        "---\n",
        "---"
      ],
      "metadata": {
        "id": "vibVu0wpe_6h"
      }
    },
    {
      "cell_type": "markdown",
      "source": [
        "# GridSearch KNN\n",
        "---"
      ],
      "metadata": {
        "id": "CBf9M2xZcJPV"
      }
    },
    {
      "cell_type": "markdown",
      "source": [
        "---\n",
        "---"
      ],
      "metadata": {
        "id": "vn3ro7-x83Um"
      }
    },
    {
      "cell_type": "code",
      "source": [
        "from sklearn.model_selection import GridSearchCV \n",
        "knn = KNeighborsClassifier()\n",
        "gsearch = GridSearchCV( estimator = knn, \n",
        "                        param_grid = {'n_neighbors' : list(range(150, 151)),'weights' : ['distance'], 'p' : [1]}, \n",
        "                        cv = 5, \n",
        "                        scoring = 'accuracy')\n",
        "\n",
        "gsearch.fit(X_train, y_train)\n",
        "\n",
        "# gsearch.cv_results_"
      ],
      "metadata": {
        "colab": {
          "base_uri": "https://localhost:8080/"
        },
        "id": "WhXYw2ESmfB1",
        "outputId": "9eaff1e3-f710-4f7e-e03e-53772eb0c00b"
      },
      "execution_count": null,
      "outputs": [
        {
          "output_type": "execute_result",
          "data": {
            "text/plain": [
              "GridSearchCV(cv=5, estimator=KNeighborsClassifier(),\n",
              "             param_grid={'n_neighbors': [150], 'p': [1],\n",
              "                         'weights': ['distance']},\n",
              "             scoring='accuracy')"
            ]
          },
          "metadata": {},
          "execution_count": 363
        }
      ]
    },
    {
      "cell_type": "code",
      "source": [
        "# print(gsearch.cv_results_['mean_test_score'])\n",
        "# print('\\n')\n",
        "# print(gsearch.cv_results_['params'])\n",
        "for param, result in zip(gsearch.cv_results_['params'], gsearch.cv_results_['mean_test_score']):\n",
        "  print(param, ' - result: ', result)"
      ],
      "metadata": {
        "colab": {
          "base_uri": "https://localhost:8080/"
        },
        "id": "ub-EkOlKz2X3",
        "outputId": "f0dc803a-8a22-4b6d-ea31-2f845616c5fa"
      },
      "execution_count": null,
      "outputs": [
        {
          "output_type": "stream",
          "name": "stdout",
          "text": [
            "{'n_neighbors': 150, 'p': 1, 'weights': 'distance'}  - result:  0.897870631349569\n"
          ]
        }
      ]
    },
    {
      "cell_type": "code",
      "source": [
        "gsearch.best_estimator_"
      ],
      "metadata": {
        "colab": {
          "base_uri": "https://localhost:8080/"
        },
        "id": "qMBIjvHvX6Yv",
        "outputId": "886c42db-90f3-4bd5-bc46-92ec09c75493"
      },
      "execution_count": null,
      "outputs": [
        {
          "output_type": "execute_result",
          "data": {
            "text/plain": [
              "KNeighborsClassifier(n_neighbors=150, p=1, weights='distance')"
            ]
          },
          "metadata": {},
          "execution_count": 365
        }
      ]
    },
    {
      "cell_type": "code",
      "source": [
        "knn_best = gsearch.best_estimator_"
      ],
      "metadata": {
        "id": "eAIcP8Rb1CDl"
      },
      "execution_count": null,
      "outputs": []
    },
    {
      "cell_type": "code",
      "source": [
        "# 59 0.8991637723981538 (current knn_best I hope)\n",
        "# 28 0.8955282554772646 (duty regime one hot encoded)\n",
        "# 136 0.8997587590739784 (no duty regime, exportcountry onehotted)\n",
        "# 384 0.8976764968575655 (current target encoded export's best)"
      ],
      "metadata": {
        "id": "Ki7IBhSN2Q0j"
      },
      "execution_count": null,
      "outputs": []
    },
    {
      "cell_type": "markdown",
      "source": [
        "# Random Forest Grid Search\n",
        "---"
      ],
      "metadata": {
        "id": "rPn7kNPEl3TA"
      }
    },
    {
      "cell_type": "markdown",
      "source": [
        "Forest Data preprocessing\n",
        "---"
      ],
      "metadata": {
        "id": "2d3-Pbizxokv"
      }
    },
    {
      "cell_type": "markdown",
      "source": [
        "---\n",
        "---"
      ],
      "metadata": {
        "id": "pQRZsv8usTcp"
      }
    },
    {
      "cell_type": "code",
      "source": [
        "# knn deki target encoding belke forest ucun daha yaxsidi.En azindan, basqa modellede eyni neticenin ne derece alindigini gormek target encoding\n",
        "# in yaxsiligi haqda info verir"
      ],
      "metadata": {
        "id": "SgbS74rRsUqL"
      },
      "execution_count": null,
      "outputs": []
    },
    {
      "cell_type": "markdown",
      "source": [
        "---\n",
        "---"
      ],
      "metadata": {
        "id": "Uino1S38sVC1"
      }
    },
    {
      "cell_type": "code",
      "source": [
        "df_forest = pd.read_csv('train.csv')"
      ],
      "metadata": {
        "id": "a56ggXUOw6XN"
      },
      "execution_count": null,
      "outputs": []
    },
    {
      "cell_type": "markdown",
      "source": [
        "---\n",
        "---"
      ],
      "metadata": {
        "id": "rrMr7Z-bw-x7"
      }
    },
    {
      "cell_type": "code",
      "source": [
        "df_forest['IssueDateTime'] = (df_forest['IssueDateTime'].str.split('-').str.get(1)).astype(int)"
      ],
      "metadata": {
        "id": "cikf_Pqvw_4d"
      },
      "execution_count": null,
      "outputs": []
    },
    {
      "cell_type": "markdown",
      "source": [
        "---\n",
        "---"
      ],
      "metadata": {
        "id": "YU1AcP6DxRTW"
      }
    },
    {
      "cell_type": "code",
      "source": [
        "df_forest['ClassificationID'] = df_forest['ClassificationID'] // 100000000"
      ],
      "metadata": {
        "id": "YnutP_q6xSEJ"
      },
      "execution_count": null,
      "outputs": []
    },
    {
      "cell_type": "markdown",
      "source": [
        "---\n",
        "---"
      ],
      "metadata": {
        "id": "WZwpUoPjxVKo"
      }
    },
    {
      "cell_type": "code",
      "source": [
        "deleted_columns_forest = ['IssueDateTime', 'ID', 'ProcessType', 'TransactionNature', 'Type', 'PaymentType', 'DeclarerID', 'ImporterID',\n",
        "                   'SellerID', 'ExpressID', 'DisplayIndicator', 'OriginCountry', 'DeclarationOfficeID', 'BorderTransportMeans', 'DutyRegime']"
      ],
      "metadata": {
        "id": "mT7XNaWJxWCO"
      },
      "execution_count": null,
      "outputs": []
    },
    {
      "cell_type": "markdown",
      "source": [
        "---\n",
        "---"
      ],
      "metadata": {
        "id": "pjwP5MC9xgMu"
      }
    },
    {
      "cell_type": "code",
      "source": [
        "df_forest = df_forest.drop(df_forest[deleted_columns_forest], axis = 1)"
      ],
      "metadata": {
        "id": "Qo8ZW3zoxg9i"
      },
      "execution_count": null,
      "outputs": []
    },
    {
      "cell_type": "markdown",
      "source": [
        "---\n",
        "---"
      ],
      "metadata": {
        "id": "qrJa4VJQxlB1"
      }
    },
    {
      "cell_type": "code",
      "source": [
        "label_encoded_column_forest = ['ExportationCountry']"
      ],
      "metadata": {
        "id": "SbDs1wZzxl1D"
      },
      "execution_count": null,
      "outputs": []
    },
    {
      "cell_type": "markdown",
      "source": [
        "---\n",
        "---"
      ],
      "metadata": {
        "id": "EHFo2AyCx4J4"
      }
    },
    {
      "cell_type": "code",
      "source": [
        "for label in label_encoded_column_forest :\n",
        "  df_forest[label] = pd.factorize(df_forest[label], sort = True)[0]"
      ],
      "metadata": {
        "id": "Oqcorm3ox5Ac"
      },
      "execution_count": null,
      "outputs": []
    },
    {
      "cell_type": "markdown",
      "source": [
        "---\n",
        "---"
      ],
      "metadata": {
        "id": "IHl43frHsb6G"
      }
    },
    {
      "cell_type": "code",
      "source": [
        "one_hot_columns_forest = ['ClassificationID']"
      ],
      "metadata": {
        "id": "N0HF5Ei7b0AR"
      },
      "execution_count": null,
      "outputs": []
    },
    {
      "cell_type": "markdown",
      "source": [
        "---\n",
        "---"
      ],
      "metadata": {
        "id": "ifeQAR0hv8N6"
      }
    },
    {
      "cell_type": "code",
      "source": [
        "df_forest = pd.get_dummies(df_forest, columns= one_hot_columns_forest, drop_first=True)"
      ],
      "metadata": {
        "id": "IagPRQ16cE6T"
      },
      "execution_count": null,
      "outputs": []
    },
    {
      "cell_type": "markdown",
      "source": [
        "---\n",
        "---"
      ],
      "metadata": {
        "id": "p2Gj-ZTFwa9f"
      }
    },
    {
      "cell_type": "code",
      "source": [
        "features_forest = [col for col in df_forest if col != 'Fake']"
      ],
      "metadata": {
        "id": "T2RPX7XewcKJ"
      },
      "execution_count": null,
      "outputs": []
    },
    {
      "cell_type": "markdown",
      "source": [
        "---\n",
        "---"
      ],
      "metadata": {
        "id": "Q08MR_f7tXmA"
      }
    },
    {
      "cell_type": "code",
      "source": [
        "X_train_forest, X_test_forest, y_train_forest, y_test_forest = train_test_split(df_forest[features_forest], df_forest['Fake'], test_size = 0.2 )"
      ],
      "metadata": {
        "id": "QO97QWnitYlm"
      },
      "execution_count": null,
      "outputs": []
    },
    {
      "cell_type": "markdown",
      "source": [
        "---\n",
        "---"
      ],
      "metadata": {
        "id": "EXrZT-1Yos4X"
      }
    },
    {
      "cell_type": "markdown",
      "source": [
        "Forest Grid\n",
        "---"
      ],
      "metadata": {
        "id": "MB-eJmZH9I2x"
      }
    },
    {
      "cell_type": "code",
      "source": [
        "randomforest = RandomForestClassifier()\n",
        "randomgrid = GridSearchCV( estimator = randomforest, \n",
        "                        param_grid = {'n_estimators' : [300, 350, 425],\n",
        "                                      }, \n",
        "                        cv = 8, \n",
        "                        scoring = 'accuracy')\n",
        "\n",
        "randomgrid.fit(X_train_forest, y_train_forest)\n",
        "\n",
        "# gsearch.cv_results_"
      ],
      "metadata": {
        "colab": {
          "base_uri": "https://localhost:8080/"
        },
        "id": "IaBJcN-fmGdS",
        "outputId": "a8b6d670-a92d-4630-f49f-fee2cab01cba"
      },
      "execution_count": null,
      "outputs": [
        {
          "output_type": "execute_result",
          "data": {
            "text/plain": [
              "GridSearchCV(cv=8, estimator=RandomForestClassifier(),\n",
              "             param_grid={'n_estimators': [300, 350, 425]}, scoring='accuracy')"
            ]
          },
          "metadata": {},
          "execution_count": 285
        }
      ]
    },
    {
      "cell_type": "markdown",
      "source": [
        "---\n",
        "---"
      ],
      "metadata": {
        "id": "Ndqwrz_ooqhh"
      }
    },
    {
      "cell_type": "code",
      "source": [
        "for param, result in zip(randomgrid.cv_results_['params'], randomgrid.cv_results_['mean_test_score']):\n",
        "  print(param, ' - result: ', result)"
      ],
      "metadata": {
        "colab": {
          "base_uri": "https://localhost:8080/"
        },
        "id": "cpLV1P_LordH",
        "outputId": "007c13f9-6427-41c9-e230-b62de23cfbfd"
      },
      "execution_count": null,
      "outputs": [
        {
          "output_type": "stream",
          "name": "stdout",
          "text": [
            "{'n_estimators': 300}  - result:  0.8929834344774621\n",
            "{'n_estimators': 350}  - result:  0.8924546399580746\n",
            "{'n_estimators': 425}  - result:  0.8929173580966256\n"
          ]
        }
      ]
    },
    {
      "cell_type": "markdown",
      "source": [
        "---\n",
        "---"
      ],
      "metadata": {
        "id": "9hCfFtYao8AQ"
      }
    },
    {
      "cell_type": "code",
      "source": [
        "randomgrid.best_estimator_"
      ],
      "metadata": {
        "colab": {
          "base_uri": "https://localhost:8080/"
        },
        "id": "_gmjDEQoo8_R",
        "outputId": "5646e4f9-9afb-4676-d632-6594a4c37ff9"
      },
      "execution_count": null,
      "outputs": [
        {
          "output_type": "execute_result",
          "data": {
            "text/plain": [
              "RandomForestClassifier(n_estimators=300)"
            ]
          },
          "metadata": {},
          "execution_count": 287
        }
      ]
    },
    {
      "cell_type": "markdown",
      "source": [
        "---\n",
        "---"
      ],
      "metadata": {
        "id": "YNddX4ldo9ud"
      }
    },
    {
      "cell_type": "code",
      "source": [
        "randomforest_best = randomgrid.best_estimator_"
      ],
      "metadata": {
        "id": "kRR8erOppASI"
      },
      "execution_count": null,
      "outputs": []
    },
    {
      "cell_type": "code",
      "source": [
        "# 0.8911656394292539\n",
        "# 0.8953959344267886 (with no duty regime and export one hot encoded)"
      ],
      "metadata": {
        "id": "wEsXwG9Jv3d4"
      },
      "execution_count": null,
      "outputs": []
    },
    {
      "cell_type": "code",
      "source": [
        "# wwhich columns to include and drop\n",
        "# if you include should you do label encoding, target encoding, onehotencoding"
      ],
      "metadata": {
        "id": "oS38AsJJJE8N"
      },
      "execution_count": null,
      "outputs": []
    },
    {
      "cell_type": "markdown",
      "source": [
        "# Submission to Kaggle"
      ],
      "metadata": {
        "id": "NRHwlToc5FEr"
      }
    },
    {
      "cell_type": "markdown",
      "source": [
        "randomforest\n",
        "---"
      ],
      "metadata": {
        "id": "Cqa4n0gV7tn3"
      }
    },
    {
      "cell_type": "code",
      "source": [
        "#\n",
        "\n",
        "df_kgl_forest = pd.read_csv('test.csv')\n",
        "df_kgl_forest['IssueDateTime'] = (df_kgl_forest['IssueDateTime'].str.split('-').str.get(1)).astype(int)\n",
        "df_kgl_forest = df_kgl_forest.drop(df_kgl_forest[deleted_columns_forest], axis = 1)\n",
        "df_kgl_forest['ClassificationID'] = df_kgl_forest['ClassificationID'] // 100000000\n",
        "#\n",
        "for label in label_encoded_column_forest :\n",
        "  df_kgl_forest[label] = pd.factorize(df_kgl_forest[label], sort = True)[0]\n",
        "#\n",
        "df_kgl_forest = pd.get_dummies(df_kgl_forest, columns=one_hot_columns_knn, drop_first=True)\n"
      ],
      "metadata": {
        "id": "Ek6hlpL45I-d"
      },
      "execution_count": null,
      "outputs": []
    },
    {
      "cell_type": "markdown",
      "source": [
        "---\n",
        "---"
      ],
      "metadata": {
        "id": "shrtNur36iJv"
      }
    },
    {
      "cell_type": "code",
      "source": [
        "missing_columns = [col for col in X_train_forest if col not in df_kgl_forest]"
      ],
      "metadata": {
        "id": "upsoDauv5vFZ"
      },
      "execution_count": null,
      "outputs": []
    },
    {
      "cell_type": "markdown",
      "source": [
        "---\n",
        "---"
      ],
      "metadata": {
        "id": "UMYBO5SJ6jmQ"
      }
    },
    {
      "cell_type": "code",
      "source": [
        "for col in missing_columns:\n",
        "  df_kgl_forest[col] = 0"
      ],
      "metadata": {
        "id": "jSzLzJ4x6NB5"
      },
      "execution_count": null,
      "outputs": []
    },
    {
      "cell_type": "markdown",
      "source": [
        "---\n",
        "---"
      ],
      "metadata": {
        "id": "is2_gpvi8DFu"
      }
    },
    {
      "cell_type": "code",
      "source": [
        "additional_columns_forest = []\n",
        "for col in df_kgl_forest:\n",
        "  if col not in X_train_forest:\n",
        "    additional_columns_forest.append(col)"
      ],
      "metadata": {
        "id": "SeEAs7ce8ELj"
      },
      "execution_count": null,
      "outputs": []
    },
    {
      "cell_type": "markdown",
      "source": [
        "---\n",
        "---"
      ],
      "metadata": {
        "id": "40KaBQ6B9iZj"
      }
    },
    {
      "cell_type": "code",
      "source": [
        "df_kgl_forest = df_kgl_forest.drop(df_kgl_forest[additional_columns_forest], axis = 1)"
      ],
      "metadata": {
        "id": "owE0fh6l8Hsy"
      },
      "execution_count": null,
      "outputs": []
    },
    {
      "cell_type": "markdown",
      "source": [
        "---\n",
        "---"
      ],
      "metadata": {
        "id": "QtdJaawx7CsM"
      }
    },
    {
      "cell_type": "code",
      "source": [
        "col_forest = randomforest_best.predict(df_kgl_forest)\n",
        "submit_forest = df_kgl_forest.copy()\n",
        "submit_forest = submit_forest.drop(columns = df_kgl_forest.columns, axis = 1)\n",
        "submit_forest['ID'] = pd.read_csv('test.csv')['ID']\n",
        "submit_forest['Fake'] = col_forest"
      ],
      "metadata": {
        "id": "_pQGBu-N7DZk",
        "colab": {
          "base_uri": "https://localhost:8080/"
        },
        "outputId": "87a5cbb5-c980-4d77-e83f-281c1d590c5a"
      },
      "execution_count": null,
      "outputs": [
        {
          "output_type": "stream",
          "name": "stderr",
          "text": [
            "/usr/local/lib/python3.7/dist-packages/sklearn/base.py:493: FutureWarning: The feature names should match those that were passed during fit. Starting version 1.2, an error will be raised.\n",
            "Feature names must be in the same order as they were in fit.\n",
            "\n",
            "  warnings.warn(message, FutureWarning)\n"
          ]
        }
      ]
    },
    {
      "cell_type": "markdown",
      "source": [
        "---\n",
        "---"
      ],
      "metadata": {
        "id": "C0wydxjp7mkO"
      }
    },
    {
      "cell_type": "code",
      "source": [
        "submit_forest.to_csv('randomforest.csv',index = False)"
      ],
      "metadata": {
        "id": "s0n6RAIv7nUQ"
      },
      "execution_count": null,
      "outputs": []
    },
    {
      "cell_type": "markdown",
      "source": [
        "knn\n",
        "---"
      ],
      "metadata": {
        "id": "Zt_av7Vv7x5T"
      }
    },
    {
      "cell_type": "code",
      "source": [
        "#\n",
        "\n",
        "df_kgl_knn = pd.read_csv('test.csv')\n",
        "df_kgl_knn['IssueDateTime'] = (df_kgl_knn['IssueDateTime'].str.split('-').str.get(1)).astype(int)\n",
        "df_kgl_knn = df_kgl_knn.drop(df_kgl_knn[deleted_columns], axis = 1)\n",
        "df_kgl_knn['ClassificationID'] = df_kgl_knn['ClassificationID'] // 100000000\n",
        "\n",
        "for label in label_encoded_column :\n",
        "  df_kgl_knn[label] = pd.factorize(df_kgl_knn[label], sort = True)[0]\n",
        "\n",
        "df_kgl_knn = pd.get_dummies(df_kgl_knn, columns = one_hot_columns_knn, drop_first=True)\n"
      ],
      "metadata": {
        "id": "ts9L2tlJ71-1"
      },
      "execution_count": null,
      "outputs": []
    },
    {
      "cell_type": "markdown",
      "source": [
        "---\n",
        "---"
      ],
      "metadata": {
        "id": "BjaZBwFQ5H6p"
      }
    },
    {
      "cell_type": "code",
      "source": [
        "missing_columns_knn = [col for col in X_train if col not in df_kgl_knn]"
      ],
      "metadata": {
        "id": "lE54sHFk5IwN"
      },
      "execution_count": null,
      "outputs": []
    },
    {
      "cell_type": "markdown",
      "source": [
        "---\n",
        "---"
      ],
      "metadata": {
        "id": "F-0IR2cK5JiU"
      }
    },
    {
      "cell_type": "code",
      "source": [
        "for col in missing_columns_knn:\n",
        "  df_kgl_knn[col] = 0"
      ],
      "metadata": {
        "id": "mk9ZDAD35KaQ"
      },
      "execution_count": null,
      "outputs": []
    },
    {
      "cell_type": "markdown",
      "source": [
        "---\n",
        "---"
      ],
      "metadata": {
        "id": "5vDJQ5uN6ofB"
      }
    },
    {
      "cell_type": "code",
      "source": [
        "additional_columns = []\n",
        "for col in df_kgl_knn:\n",
        "  if col not in X_train:\n",
        "    additional_columns.append(col)"
      ],
      "metadata": {
        "id": "5sNFfOpt5wCq"
      },
      "execution_count": null,
      "outputs": []
    },
    {
      "cell_type": "markdown",
      "source": [
        "---\n",
        "---"
      ],
      "metadata": {
        "id": "bEviDrbv6p0H"
      }
    },
    {
      "cell_type": "code",
      "source": [
        "df_kgl_knn = df_kgl_knn.drop(df_kgl_knn[additional_columns], axis = 1)"
      ],
      "metadata": {
        "id": "7yfiAOSA6pZI"
      },
      "execution_count": null,
      "outputs": []
    },
    {
      "cell_type": "markdown",
      "source": [
        "---\n",
        "---"
      ],
      "metadata": {
        "id": "9LBAnyrxpnHv"
      }
    },
    {
      "cell_type": "code",
      "source": [
        "# data = {'column 1' : [1, 2, 5], 'column 2' : [10, 76, 89]}\n",
        "# test_df = pd.DataFrame(data)"
      ],
      "metadata": {
        "id": "8N_i6XfIpn6H"
      },
      "execution_count": null,
      "outputs": []
    },
    {
      "cell_type": "code",
      "source": [
        "# for index, row in test_df.iterrows():\n",
        "#   if index %2 == 0:\n",
        "#     row['column 1'] = 100"
      ],
      "metadata": {
        "id": "WGVtBn3-p0tV"
      },
      "execution_count": null,
      "outputs": []
    },
    {
      "cell_type": "code",
      "source": [
        "#  test_df"
      ],
      "metadata": {
        "id": "p6w8nPsWqU65"
      },
      "execution_count": null,
      "outputs": []
    },
    {
      "cell_type": "markdown",
      "source": [
        "---\n",
        "---"
      ],
      "metadata": {
        "id": "HeLFWFGLt9rB"
      }
    },
    {
      "cell_type": "code",
      "source": [
        "# for index_kgl, row_kgl_knn in df_kgl_knn.iterrows() :\n",
        "#   index = -1\n",
        "#   for country in export_column :\n",
        "#     index = index + 1\n",
        "#     if country == row_kgl_knn['ExportationCountry']:\n",
        "#       row_kgl_knn['ExportationCountry'] = df['ExportationCountry'][index]\n",
        "#       df_kgl_knn.iloc[index_kgl] = row_kgl_knn\n",
        "#       break"
      ],
      "metadata": {
        "colab": {
          "base_uri": "https://localhost:8080/",
          "height": 232
        },
        "id": "SAz9ZihPt-h6",
        "outputId": "99bb3d94-7bf6-4005-fb4b-e82edc28311e"
      },
      "execution_count": null,
      "outputs": [
        {
          "output_type": "error",
          "ename": "KeyboardInterrupt",
          "evalue": "ignored",
          "traceback": [
            "\u001b[0;31m---------------------------------------------------------------------------\u001b[0m",
            "\u001b[0;31mKeyboardInterrupt\u001b[0m                         Traceback (most recent call last)",
            "\u001b[0;32m<ipython-input-348-8c31f0750f20>\u001b[0m in \u001b[0;36m<module>\u001b[0;34m()\u001b[0m\n\u001b[1;32m      3\u001b[0m   \u001b[0;32mfor\u001b[0m \u001b[0mcountry\u001b[0m \u001b[0;32min\u001b[0m \u001b[0mexport_column\u001b[0m \u001b[0;34m:\u001b[0m\u001b[0;34m\u001b[0m\u001b[0;34m\u001b[0m\u001b[0m\n\u001b[1;32m      4\u001b[0m     \u001b[0mindex\u001b[0m \u001b[0;34m=\u001b[0m \u001b[0mindex\u001b[0m \u001b[0;34m+\u001b[0m \u001b[0;36m1\u001b[0m\u001b[0;34m\u001b[0m\u001b[0;34m\u001b[0m\u001b[0m\n\u001b[0;32m----> 5\u001b[0;31m     \u001b[0;32mif\u001b[0m \u001b[0mcountry\u001b[0m \u001b[0;34m==\u001b[0m \u001b[0mrow_kgl_knn\u001b[0m\u001b[0;34m[\u001b[0m\u001b[0;34m'ExportationCountry'\u001b[0m\u001b[0;34m]\u001b[0m\u001b[0;34m:\u001b[0m\u001b[0;34m\u001b[0m\u001b[0;34m\u001b[0m\u001b[0m\n\u001b[0m\u001b[1;32m      6\u001b[0m       \u001b[0mrow_kgl_knn\u001b[0m\u001b[0;34m[\u001b[0m\u001b[0;34m'ExportationCountry'\u001b[0m\u001b[0;34m]\u001b[0m \u001b[0;34m=\u001b[0m \u001b[0mdf\u001b[0m\u001b[0;34m[\u001b[0m\u001b[0;34m'ExportationCountry'\u001b[0m\u001b[0;34m]\u001b[0m\u001b[0;34m[\u001b[0m\u001b[0mindex\u001b[0m\u001b[0;34m]\u001b[0m\u001b[0;34m\u001b[0m\u001b[0;34m\u001b[0m\u001b[0m\n\u001b[1;32m      7\u001b[0m       \u001b[0mdf_kgl_knn\u001b[0m\u001b[0;34m.\u001b[0m\u001b[0miloc\u001b[0m\u001b[0;34m[\u001b[0m\u001b[0mindex_kgl\u001b[0m\u001b[0;34m]\u001b[0m \u001b[0;34m=\u001b[0m \u001b[0mrow_kgl_knn\u001b[0m\u001b[0;34m\u001b[0m\u001b[0;34m\u001b[0m\u001b[0m\n",
            "\u001b[0;31mKeyboardInterrupt\u001b[0m: "
          ]
        }
      ]
    },
    {
      "cell_type": "markdown",
      "source": [
        "---\n",
        "---"
      ],
      "metadata": {
        "id": "fu3rUmLp8Pww"
      }
    },
    {
      "cell_type": "code",
      "source": [
        "additional_countries_knn = [row['ExportationCountry'] for index, row in df_kgl_knn.iterrows() \n",
        "                                if row['ExportationCountry'] not in export_column]"
      ],
      "metadata": {
        "id": "0eV2HlomMByJ"
      },
      "execution_count": null,
      "outputs": []
    },
    {
      "cell_type": "markdown",
      "source": [
        "---\n",
        "---"
      ],
      "metadata": {
        "id": "FwoQGN3yMAv8"
      }
    },
    {
      "cell_type": "code",
      "source": [
        "col_knn = knn_best.predict(df_kgl_knn)\n",
        "submit_knn = df_kgl_knn.copy()\n",
        "submit_knn = submit_knn.drop(columns = df_kgl_knn.columns, axis = 1)\n",
        "submit_knn['ID'] = pd.read_csv('test.csv')['ID']\n",
        "submit_knn['Fake'] = col_knn"
      ],
      "metadata": {
        "id": "ys4GIE0o8Qbv",
        "colab": {
          "base_uri": "https://localhost:8080/"
        },
        "outputId": "e7ceee02-b5b1-4f43-fd9c-387e67bac352"
      },
      "execution_count": null,
      "outputs": [
        {
          "output_type": "stream",
          "name": "stderr",
          "text": [
            "/usr/local/lib/python3.7/dist-packages/sklearn/base.py:493: FutureWarning: The feature names should match those that were passed during fit. Starting version 1.2, an error will be raised.\n",
            "Feature names must be in the same order as they were in fit.\n",
            "\n",
            "  warnings.warn(message, FutureWarning)\n"
          ]
        }
      ]
    },
    {
      "cell_type": "markdown",
      "source": [
        "---\n",
        "---"
      ],
      "metadata": {
        "id": "jp7oT8um89vH"
      }
    },
    {
      "cell_type": "code",
      "source": [
        "submit_knn.to_csv('knn.csv',index = False)"
      ],
      "metadata": {
        "id": "Dzp3KSYM8vP9"
      },
      "execution_count": null,
      "outputs": []
    }
  ]
}